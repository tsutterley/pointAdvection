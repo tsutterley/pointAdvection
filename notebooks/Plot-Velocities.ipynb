{
 "cells": [
  {
   "cell_type": "markdown",
   "id": "9ac0078a",
   "metadata": {},
   "source": [
    "### Plot Velocities\n",
    "Read and visualize ice velocity grids "
   ]
  },
  {
   "cell_type": "code",
   "execution_count": null,
   "id": "9e5d9b2e",
   "metadata": {},
   "outputs": [],
   "source": [
    "import numpy as np\n",
    "import pointAdvection\n",
    "import pointCollection as pc\n",
    "import matplotlib.pyplot as plt\n",
    "import matplotlib.colors as colors"
   ]
  },
  {
   "cell_type": "markdown",
   "id": "7da66f98",
   "metadata": {},
   "source": [
    "#### Read velocity image and trim to bounds"
   ]
  },
  {
   "cell_type": "code",
   "execution_count": null,
   "id": "db486b74",
   "metadata": {},
   "outputs": [],
   "source": [
    "# grid bounds to read\n",
    "xlimits = (-2470000, -2050000)\n",
    "ylimits = (895000, 1325000)\n",
    "# read velocity mosaic\n",
    "# https://nsidc.org/data/NSIDC-0484\n",
    "d1 = pointAdvection.advection().from_nc('antarctica_ice_velocity_450m_v2.nc',\n",
    "    bounds=[xlimits,ylimits], scale=1.0)"
   ]
  },
  {
   "cell_type": "markdown",
   "id": "fdecfc1c",
   "metadata": {},
   "source": [
    "#### Create plot of velocity with streamlines"
   ]
  },
  {
   "cell_type": "code",
   "execution_count": null,
   "id": "fb849534",
   "metadata": {},
   "outputs": [],
   "source": [
    "# create output figure axis\n",
    "fig,ax = plt.subplots(num=1, ncols=2, sharex=True, sharey=True, figsize=(12,6))\n",
    "# add MODIS mosaic as background\n",
    "m = pc.grid.data().from_geotif('moa125_2014_hp1_v01.tif',\n",
    "    bounds=[xlimits,ylimits])\n",
    "for axes in ax:\n",
    "    m.show(ax=axes, vmin=0, vmax=16386, cmap='gray')\n",
    "# create color map\n",
    "cmap = pointAdvection.tools.custom_colormap(180, 'Rignot')\n",
    "# show velocity magnitude\n",
    "d1.imshow(ax=ax[0], cmap=cmap, norm=colors.LogNorm(vmin=1, vmax=3000), alpha=0.75)\n",
    "# show velocity divergence\n",
    "d1.imshow(ax=ax[1], imtype='divergence', cmap=plt.cm.coolwarm, vmin=-0.1, vmax=0.1, alpha=0.75)\n",
    "# aspect ratio of input grid\n",
    "aspect = np.float64(ylimits[1]-ylimits[0])/np.float64(xlimits[1]-xlimits[0])\n",
    "d1.streamplot(ax=ax[0], density=[3.0,3.0*aspect], arrowstyle='-')\n",
    "# trim image to limits\n",
    "ax[0].set_xlim(xlimits)\n",
    "ax[0].set_ylim(ylimits)\n",
    "# tight layout\n",
    "fig.tight_layout()\n",
    "plt.show()"
   ]
  }
 ],
 "metadata": {
  "interpreter": {
   "hash": "31f2aee4e71d21fbe5cf8b01ff0e069b9275f58929596ceb00d14d90e3e16cd6"
  },
  "kernelspec": {
   "display_name": "Python 3.8.10 64-bit",
   "language": "python",
   "name": "python3"
  },
  "language_info": {
   "codemirror_mode": {
    "name": "ipython",
    "version": 3
   },
   "file_extension": ".py",
   "mimetype": "text/x-python",
   "name": "python",
   "nbconvert_exporter": "python",
   "pygments_lexer": "ipython3",
   "version": "3.10.6"
  }
 },
 "nbformat": 4,
 "nbformat_minor": 5
}
