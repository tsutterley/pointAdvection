{
 "cells": [
  {
   "cell_type": "markdown",
   "id": "9ac0078a",
   "metadata": {},
   "source": [
    "### Plot Velocities and streamlines"
   ]
  },
  {
   "cell_type": "code",
   "execution_count": null,
   "id": "9e5d9b2e",
   "metadata": {},
   "outputs": [],
   "source": [
    "import numpy as np\n",
    "import pointAdvection\n",
    "import pointCollection as pc\n",
    "import matplotlib.pyplot as plt\n",
    "import matplotlib.colors as colors\n",
    "#%matplotlib widget\n",
    "%load_ext autoreload\n",
    "%autoreload 2"
   ]
  },
  {
   "cell_type": "markdown",
   "id": "7c619bfb-00f0-44db-8228-4a2356929ed1",
   "metadata": {},
   "source": [
    "### File locations"
   ]
  },
  {
   "cell_type": "code",
   "execution_count": null,
   "id": "29ec678d-6cde-4686-b6e8-57a6b171f66f",
   "metadata": {},
   "outputs": [],
   "source": [
    "MOA_file = 'moa125_2014_hp1_v01.tif'\n",
    "# https://nsidc.org/data/NSIDC-0484\n",
    "vel_file = 'antarctica_ice_velocity_450m_v2.nc'"
   ]
  },
  {
   "cell_type": "markdown",
   "id": "7da66f98",
   "metadata": {},
   "source": [
    "#### Set bounds for Larsen C"
   ]
  },
  {
   "cell_type": "code",
   "execution_count": null,
   "id": "db486b74",
   "metadata": {},
   "outputs": [],
   "source": [
    "# grid bounds to read\n",
    "xlimits = (-2470000, -2050000)\n",
    "ylimits = (895000, 1325000)"
   ]
  },
  {
   "cell_type": "markdown",
   "id": "ec2d8b7b-49ea-4b1f-a33b-3c3b1e9c7446",
   "metadata": {},
   "source": [
    "#### Pick a location in the center of the map"
   ]
  },
  {
   "cell_type": "code",
   "execution_count": null,
   "id": "0ebadf66-050c-4fe3-aa8a-21b9232fc3f3",
   "metadata": {},
   "outputs": [],
   "source": [
    "xc, yc = [-2196826.298701299, 1150836.038961039]"
   ]
  },
  {
   "cell_type": "markdown",
   "id": "ab6ad5c3-fd52-4bd3-a71f-91a8aed42e4e",
   "metadata": {
    "tags": []
   },
   "source": [
    "#### Read the velocity data"
   ]
  },
  {
   "cell_type": "code",
   "execution_count": null,
   "id": "81d9ab6b-38ff-4f88-b701-c3f2cab54348",
   "metadata": {},
   "outputs": [],
   "source": [
    "d2 = pointAdvection.advection().from_nc(vel_file,\n",
    "    bounds=[xlimits,ylimits], scale=1.0)\n",
    "# read in the MOA\n",
    "MOA = pc.grid.data().from_geotif(MOA_file,\n",
    "    bounds=[xlimits,ylimits])"
   ]
  },
  {
   "cell_type": "markdown",
   "id": "882ce635-c26c-4038-8044-40edf2387064",
   "metadata": {},
   "source": [
    "#### Move the points downstream\n"
   ]
  },
  {
   "cell_type": "code",
   "execution_count": null,
   "id": "eed2c62d-af67-4dcd-a085-8849fdea1190",
   "metadata": {},
   "outputs": [],
   "source": [
    "# pick some points around the center point\n",
    "dx, dy = np.meshgrid([-1.e4, 0, 1.e4], [-1.e4, 0, 1.e4])\n",
    "# convert to arrays\n",
    "d2.x = xc + dx.ravel()\n",
    "d2.y = yc + dy.ravel()\n",
    "d2.t = (2015.0-2000) + np.zeros_like(dx).ravel()\n",
    "# translate points\n",
    "d2.translate_parcel(t0=(2100.0-2000), streak=True, step=1);"
   ]
  },
  {
   "cell_type": "markdown",
   "id": "d5854375-e0b2-4dc6-956b-43369e7961e8",
   "metadata": {
    "tags": []
   },
   "source": [
    "#### Plot the results"
   ]
  },
  {
   "cell_type": "code",
   "execution_count": null,
   "id": "86cf8bd1-d95b-4a88-ab34-d0037c7aae23",
   "metadata": {},
   "outputs": [],
   "source": [
    "plt.figure(); \n",
    "MOA.show(clim=[0, 16386], cmap='gray')\n",
    "cmap = pointAdvection.tools.custom_colormap(180, 'Rignot')\n",
    "plt.imshow(np.abs(d2.velocity.U+1j*d2.velocity.V),\n",
    "    extent=d2.velocity.extent, origin='lower',\n",
    "    cmap=cmap, norm=colors.LogNorm(vmin=1, vmax=3000),\n",
    "    alpha=0.75\n",
    ")\n",
    "plt.colorbar()\n",
    "plt.plot(d2.x, d2.y, 'w*')\n",
    "plt.plot(d2.streak['x'], d2.streak['y'], marker='.', ms=1);"
   ]
  },
  {
   "cell_type": "code",
   "execution_count": null,
   "id": "0bc765fb-fc2f-453a-8ae8-5164906ef0e9",
   "metadata": {},
   "outputs": [],
   "source": []
  }
 ],
 "metadata": {
  "kernelspec": {
   "display_name": "base",
   "language": "python",
   "name": "python3"
  },
  "language_info": {
   "codemirror_mode": {
    "name": "ipython",
    "version": 3
   },
   "file_extension": ".py",
   "mimetype": "text/x-python",
   "name": "python",
   "nbconvert_exporter": "python",
   "pygments_lexer": "ipython3",
   "version": "3.10.13"
  }
 },
 "nbformat": 4,
 "nbformat_minor": 5
}
