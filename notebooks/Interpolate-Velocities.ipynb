{
 "cells": [
  {
   "attachments": {},
   "cell_type": "markdown",
   "metadata": {},
   "source": [
    "### Interpolate Velocities\n",
    "Read and interpolate time-variable ice velocity grids to fill data gaps"
   ]
  },
  {
   "cell_type": "code",
   "execution_count": null,
   "metadata": {},
   "outputs": [],
   "source": [
    "import timescale\n",
    "import numpy as np\n",
    "import xarray as xr\n",
    "import pointAdvection\n",
    "import matplotlib.pyplot as plt\n",
    "import matplotlib.colors as colors"
   ]
  },
  {
   "attachments": {},
   "cell_type": "markdown",
   "metadata": {},
   "source": [
    "#### Read input velocity field using ``xarray`` and ``pointAdvection``"
   ]
  },
  {
   "cell_type": "code",
   "execution_count": null,
   "metadata": {},
   "outputs": [],
   "source": [
    "# read velocity file with xarray\n",
    "with xr.open_dataset('Norden.NSIDC-0731.nc') as ds:\n",
    "    ts = timescale.time.Timescale().from_datetime(ds.time.data)\n",
    "    adv = pointAdvection.advection(time_units='years').from_dict({\n",
    "            'x':np.array(ds.x),\n",
    "            'y':np.array(ds.y[::-1]), \n",
    "            'U':np.array(ds.VelocitySeries[:,0,::-1,:]),\n",
    "            'V':np.array(ds.VelocitySeries[:,1,::-1,:]), \n",
    "            'eU':np.array(ds.VelocitySeries[:,3,::-1,:]),\n",
    "            'eV':np.array(ds.VelocitySeries[:,4,::-1,:]),\n",
    "            'time':ts.year\n",
    "        },\n",
    "        t_axis=0,\n",
    "        scale=1.0\n",
    "    )"
   ]
  },
  {
   "attachments": {},
   "cell_type": "markdown",
   "metadata": {},
   "source": [
    "#### Plot original velocity with data gaps"
   ]
  },
  {
   "cell_type": "code",
   "execution_count": null,
   "metadata": {},
   "outputs": [],
   "source": [
    "# create output figure axis\n",
    "fig,ax = plt.subplots(num=1, ncols=2, sharex=True, sharey=True, figsize=(12,6))\n",
    "# create color map\n",
    "cmap = pointAdvection.tools.custom_colormap(180, 'Rignot')\n",
    "# show velocity magnitude\n",
    "adv.imshow(ax=ax[0], band=1, cmap=cmap, norm=colors.LogNorm(vmin=1, vmax=3000), alpha=0.75)\n",
    "# show velocity divergence\n",
    "adv.imshow(ax=ax[1], band=1, imtype='divergence', cmap=plt.cm.coolwarm, vmin=-0.1, vmax=0.1, alpha=0.75)\n",
    "# tight layout\n",
    "fig.tight_layout()\n",
    "plt.show()"
   ]
  },
  {
   "attachments": {},
   "cell_type": "markdown",
   "metadata": {},
   "source": [
    "#### Calculate an error-weighted version to fill data gaps"
   ]
  },
  {
   "cell_type": "code",
   "execution_count": null,
   "metadata": {},
   "outputs": [],
   "source": [
    "# calculate an error-weighted average of the velocities\n",
    "v = adv.copy()\n",
    "v.fill_velocity_gaps()"
   ]
  },
  {
   "attachments": {},
   "cell_type": "markdown",
   "metadata": {},
   "source": [
    "#### Plot gap-filled velocity fields"
   ]
  },
  {
   "cell_type": "code",
   "execution_count": null,
   "metadata": {},
   "outputs": [],
   "source": [
    "# create output figure axis\n",
    "fig,ax = plt.subplots(num=2, ncols=2, sharex=True, sharey=True, figsize=(12,6))\n",
    "# show velocity magnitude\n",
    "v.imshow(ax=ax[0], band=1, cmap=cmap, norm=colors.LogNorm(vmin=1, vmax=3000), alpha=0.75)\n",
    "# show velocity divergence\n",
    "v.imshow(ax=ax[1], band=1, imtype='divergence', cmap=plt.cm.coolwarm, vmin=-0.1, vmax=0.1, alpha=0.75)\n",
    "# tight layout\n",
    "fig.tight_layout()\n",
    "plt.show()"
   ]
  }
 ],
 "metadata": {
  "kernelspec": {
   "display_name": "Python 3",
   "language": "python",
   "name": "python3"
  },
  "language_info": {
   "codemirror_mode": {
    "name": "ipython",
    "version": 3
   },
   "file_extension": ".py",
   "mimetype": "text/x-python",
   "name": "python",
   "nbconvert_exporter": "python",
   "pygments_lexer": "ipython3",
   "version": "3.10.13"
  },
  "orig_nbformat": 4
 },
 "nbformat": 4,
 "nbformat_minor": 2
}
