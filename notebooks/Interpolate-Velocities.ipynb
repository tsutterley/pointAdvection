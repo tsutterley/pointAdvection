{
 "cells": [
  {
   "attachments": {},
   "cell_type": "markdown",
   "metadata": {},
   "source": [
    "### Interpolate Velocities\n",
    "Read and interpolate time-variable ice velocity grids to fill data gaps"
   ]
  },
  {
   "cell_type": "code",
   "execution_count": null,
   "metadata": {},
   "outputs": [],
   "source": [
    "import os\n",
    "import numpy as np\n",
    "import xarray as xr\n",
    "import pointAdvection\n",
    "import pointCollection as pc\n",
    "import matplotlib.pyplot as plt\n",
    "import matplotlib.colors as colors"
   ]
  },
  {
   "attachments": {},
   "cell_type": "markdown",
   "metadata": {},
   "source": [
    "#### Read input velocity field using ``xarray`` and ``pointAdvection``"
   ]
  },
  {
   "cell_type": "code",
   "execution_count": null,
   "metadata": {},
   "outputs": [],
   "source": [
    "vel_dir='/Volumes/ice1/ben/ArcticDEM/fullres/Nodenskold/velocity'\n",
    "\n",
    "# read velocity file with xarray\n",
    "with xr.open_dataset(os.path.join(vel_dir,'Norden.NSIDC-0731.nc')) as ds:\n",
    "    dt=np.array(ds.time.data-np.datetime64('2001-01-01'),dtype='timedelta64[s]')\n",
    "    adv=pointAdvection.advection().from_dict({'x':np.array(ds.x),\n",
    "                                'y':np.array(ds.y), \n",
    "                                'U':np.array(ds.VelocitySeries[:,0,::-1,:]),\n",
    "                                'V':np.array(ds.VelocitySeries[:,1,::-1,:]), \n",
    "                                'eU':np.array(ds.VelocitySeries[:,3,::-1,:]),\n",
    "                                'eV':np.array(ds.VelocitySeries[:,4,::-1,:]),\n",
    "                                'time':dt}, t_axis=0, scale=1.0)"
   ]
  },
  {
   "attachments": {},
   "cell_type": "markdown",
   "metadata": {},
   "source": [
    "#### Plot original velocity with data gaps"
   ]
  },
  {
   "cell_type": "code",
   "execution_count": null,
   "metadata": {},
   "outputs": [],
   "source": [
    "# create output figure axis\n",
    "fig,ax = plt.subplots(num=1, ncols=2, sharex=True, sharey=True, figsize=(12,6))\n",
    "# create color map\n",
    "cmap = pointAdvection.tools.custom_colormap(180, 'Rignot')\n",
    "# show velocity magnitude\n",
    "adv.imshow(ax=ax[0], band=1, cmap=cmap, norm=colors.LogNorm(vmin=1, vmax=3000), alpha=0.75)\n",
    "# show velocity divergence\n",
    "adv.imshow(ax=ax[1], band=1, imtype='divergence', cmap=plt.cm.coolwarm, vmin=-0.1, vmax=0.1, alpha=0.75)\n",
    "# tight layout\n",
    "fig.tight_layout()\n",
    "plt.show()"
   ]
  },
  {
   "cell_type": "markdown",
   "metadata": {},
   "source": [
    "#### Calculate an error-weighted version to fill data gaps"
   ]
  },
  {
   "cell_type": "code",
   "execution_count": null,
   "metadata": {},
   "outputs": [],
   "source": [
    "# calculate an error-weighted average of the velocities\n",
    "v=adv.velocity\n",
    "wU=1/v.eU**2/np.nansum(1/v.eU**2, axis=2)[:,:,None]\n",
    "wV=1/v.eV**2/np.nansum(1/v.eV**2, axis=2)[:,:,None]\n",
    "vbar=pc.grid.data().from_dict({'x':np.array(v.x),\n",
    "                            'y':np.array(v.y), \n",
    "                            'U':np.nansum(wU*v.U, axis=2),\n",
    "                            'V':np.nanmean(wV*v.V, axis=2)})\n",
    "\n",
    "# attempt to fill in gaps in each velocity field with the average of \n",
    "# the velocity from one year prior and that from one year later.\n",
    "# if one or the other of these is missing, use valid values from the \n",
    "# slice that is present.  \n",
    "\n",
    "v=adv.velocity\n",
    "v_filled=adv.velocity.copy()\n",
    "\n",
    "delta_year=np.timedelta64(24*3600*365, 's')\n",
    "delta_tol = 24*3600*365/8\n",
    "\n",
    "for ii in range(v.U.shape[2]-1):\n",
    "    this_U=v.U[:,:,ii].copy()\n",
    "    this_V=v.V[:,:,ii].copy()\n",
    "    u_temp = np.zeros_like(this_U)\n",
    "    v_temp = np.zeros_like(this_U)\n",
    "    w_temp = np.zeros_like(this_U)\n",
    "    for dt in [-delta_tol, delta_tol]:\n",
    "        other_year = np.argmin(np.abs(v.time[ii]+delta_year-v.time))\n",
    "        if np.abs((v.time[other_year]-v.time[ii]).astype(float)) > delta_tol:\n",
    "            continue\n",
    "        good = np.isfinite(v.U[:,:,other_year])\n",
    "        u_temp[good] += v.U[:,:,other_year][good]\n",
    "        v_temp[good] += v.V[:,:,other_year][good]\n",
    "        w_temp[good] += 1\n",
    "    u_temp[w_temp > 0] /= w_temp[w_temp>0]\n",
    "    v_temp[w_temp > 0] /= w_temp[w_temp>0]\n",
    "    to_replace = ((~np.isfinite(this_U)) & (w_temp>0)).ravel()\n",
    "    if np.any(to_replace):\n",
    "        this_U.ravel()[to_replace] = u_temp.ravel()[to_replace]\n",
    "        this_V.ravel()[to_replace] = v_temp.ravel()[to_replace]\n",
    "    v_filled.U[:,:,ii]=this_U\n",
    "    v_filled.V[:,:,ii]=this_V\n",
    "\n",
    "# fill in the remaining gaps using the mean velocity field\n",
    "    \n",
    "for ii in range(v.U.shape[2]):\n",
    "    this_U=v.U[:,:,ii].copy()\n",
    "    this_V=v.V[:,:,ii].copy()\n",
    "    to_replace = (~np.isfinite(this_U)).ravel()\n",
    "    if np.any(to_replace):\n",
    "        this_U.ravel()[to_replace] = vbar.U.ravel()[to_replace]\n",
    "        this_V.ravel()[to_replace] = vbar.V.ravel()[to_replace]\n",
    "    v_filled.U[:,:,ii]=this_U\n",
    "    v_filled.V[:,:,ii]=this_V\n",
    "\n",
    "# replace original velocities with filled\n",
    "adv.velocity.V = v_filled.V\n",
    "adv.velocity.U = v_filled.U"
   ]
  },
  {
   "attachments": {},
   "cell_type": "markdown",
   "metadata": {},
   "source": [
    "#### Plot gap-filled velocity fields"
   ]
  },
  {
   "cell_type": "code",
   "execution_count": null,
   "metadata": {},
   "outputs": [],
   "source": [
    "# create output figure axis\n",
    "fig,ax = plt.subplots(num=2, ncols=2, sharex=True, sharey=True, figsize=(12,6))\n",
    "# create color map\n",
    "cmap = pointAdvection.tools.custom_colormap(180, 'Rignot')\n",
    "# show velocity magnitude\n",
    "adv.imshow(ax=ax[0], band=1, cmap=cmap, norm=colors.LogNorm(vmin=1, vmax=3000), alpha=0.75)\n",
    "# show velocity divergence\n",
    "adv.imshow(ax=ax[1], band=1, imtype='divergence', cmap=plt.cm.coolwarm, vmin=-0.1, vmax=0.1, alpha=0.75)\n",
    "# tight layout\n",
    "fig.tight_layout()\n",
    "plt.show()"
   ]
  }
 ],
 "metadata": {
  "kernelspec": {
   "display_name": "Python 3",
   "language": "python",
   "name": "python3"
  },
  "language_info": {
   "codemirror_mode": {
    "name": "ipython",
    "version": 3
   },
   "file_extension": ".py",
   "mimetype": "text/x-python",
   "name": "python",
   "nbconvert_exporter": "python",
   "pygments_lexer": "ipython3",
   "version": "3.10.6"
  },
  "orig_nbformat": 4
 },
 "nbformat": 4,
 "nbformat_minor": 2
}
